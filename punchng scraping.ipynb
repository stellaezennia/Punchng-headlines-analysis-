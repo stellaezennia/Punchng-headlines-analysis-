{
 "cells": [
  {
   "cell_type": "code",
   "execution_count": 1,
   "metadata": {},
   "outputs": [],
   "source": [
    "import requests\n",
    "from bs4 import BeautifulSoup\n",
    "import pandas as pd\n",
    "from time import sleep\n",
    "from random import randint\n",
    "import numpy as np"
   ]
  },
  {
   "cell_type": "code",
   "execution_count": 2,
   "metadata": {},
   "outputs": [
    {
     "name": "stdout",
     "output_type": "stream",
     "text": [
      "<!DOCTYPE html>\n",
      "<html lang=\"en-US\">\n",
      " <head>\n",
      "  <script data-cfasync=\"false\" data-mrf-dt=\"1\" data-mrf-host=\"bc.marfeelcache.com\" data-mrf-script=\"garda\" src=\"https://bc.marfeelcache.com/statics/marfeel/\n"
     ]
    }
   ],
   "source": [
    "URL = \"https://punchng.com/topics/news/page/74/\"\n",
    "#requesting the URL above\n",
    "page = requests.get(URL)\n",
    "\n",
    "#specifying format of the page to help readability\n",
    "soup= BeautifulSoup(page.text, \"html.parser\")\n",
    "\n",
    "#printing some characters of soup in a more structured format\n",
    "print(soup.prettify()[:200])"
   ]
  },
  {
   "cell_type": "code",
   "execution_count": 3,
   "metadata": {},
   "outputs": [
    {
     "name": "stdout",
     "output_type": "stream",
     "text": [
      "Buhari receives Sambo, hails Niger Republic’s peaceful elections\n",
      "Over 50 countries launch Covid-19 vaccination campaigns\n",
      "Ex-Man Utd boss Docherty dies a 92\n",
      "Sanwo-Olu signs 2021 appropriation bill into law\n",
      "Kaduna demolishes ‘nude party’ building\n",
      "Those extorting NIN applicants risk seven years in jail —NIMC\n",
      "Budget: Deliver on target or get sanctioned, Buhari warns agencies\n",
      "FG kicks as protest greets killing of 27-year-old Nigerian in Ireland\n",
      "Nepotism, poor governance, bane of insecurity in Nigeria –Nnamani\n",
      "Buhari to make New Year broadcast Friday\n",
      "China to make COVID-19 vaccines free for citizens –Official\n",
      "Second wave: Covenant University postpones resumption\n",
      "Insecurity: Camels ferry deadly weapons through northern borders -ACF\n"
     ]
    }
   ],
   "source": [
    "for div in soup.find_all(name='div', attrs={'class':'items col-sm-12'}):\n",
    "    try:\n",
    "        print(div.find(name='h2', attrs={'class': 'seg-title'}).text)\n",
    "    except:\n",
    "        print('None')"
   ]
  },
  {
   "cell_type": "code",
   "execution_count": 4,
   "metadata": {},
   "outputs": [
    {
     "name": "stdout",
     "output_type": "stream",
     "text": [
      "Olalekan Adetayo, Abuja The President, Major General Muhammadu Buhari (retd.), on Thursday reportedly showered praises on the outgoing President of Niger Republic, Mahamadou Issoufou, and the citizens of the country for the peaceful and successful conduct of the presidential and parliamentary elections on December 27. His Senior Special Assistant on Media and Publicity, Garba Shehu, […]\n",
      "Over 50 countries around the world have already started vaccinating their people against Covid-19, barely a year after the first alert by China signalled the start of the pandemic. A snapshot: – China leads the way – China, where the pandemic first emerged, was also the first to start vaccinations over the summer, without waiting […]\n",
      "Former Manchester United and Scotland manager Tommy Docherty has died at the age of 92 following a long illness, his family announced on Thursday. Docherty, who was known as “The Doc”, spent nine years as a player with Preston, and won 25 caps for Scotland. He went on to manage multiple clubs — including Chelsea, […]\n",
      "Sodiq Oyeleke Lagos State Governor, Babatunde Sanwo-Olu, has signed into law the state’s 2021 Appropriation Bill on Thursday. The budget christened the “Budget of Rekindled Hope” consists of Capital Expenditure and a Recurrent Expenditure at a ratio of 60 to 40 per cent. The governor assured that his administration would not relent on rebuilding the […]\n",
      "Godwin Isenyo, Kaduna Following the arrest of organisers of the maiden edition of the Kaduna sex party, the building that would have hosted the event, has been demolished. Officials of the Kaduna State Urban State Urban Planning Development Agency carried out the exercise. According to the Public Relations Officer of the agency, Nuhu Garba, the […]\n",
      "Kayode Oyero The National Identity Management Commission, on Thursday, says the enrolment for the National Identification Number is free. The NIMC also warned those cashing in amid the ongoing NIN registration nationwide to desist as they risk seven years in jail when caught. The Commission, in a notice posted on its social media platforms on […]\n",
      "Segun Adewole The President, Major General Muhammadu Buhari (retd.), has told government agencies saddled with generating revenue to work hard to meet their targets. Buhari said this after he signed the N13.5trn 2021 Appropriation Bill into law on Thursday, December 31, 2020. His words are contained in a statement titled, ‘Deliver on targets or get […]\n",
      "Sodiq Oyeleke The Nigerians in Diaspora Commission has expressed dissatisfaction over the fatal killing of a 27-year-old Nigerian, Mr George Nkencho, in Ireland. Abike Dabiri-Erewa, chairman of the federal government’s agency – NIDCOM, described the killing as “callous” in a statement on Thursday. The PUNCH gathered that Nkencho was shot dead by gardaí ((Irish police) […]\n",
      "Sunday Aborisade, Abuja A former governor of Enugu State, Senator Chimaroke Nnamani, has said that the agitations and restiveness in parts of the country could be curtailed and eradicated if infrastructure development and appointments into key offices in government are based on fairness, equity and justice. Nnamani, who is representing Enugu East Senatorial District at […]\n",
      "Olalekan Adetayo, Abuja The President, Major General Muhammadu Buhari (retd.), will on Friday deliver his New Year message to Nigerians through a national broadcast. The Senior Special Assistant to the President on Media and Publicity, Garba Shehu, disclosed this in a statement on Thursday titled, ‘President Buhari makes New Year broadcast.’ The statement read, “President […]\n",
      "China will provide free COVID-19 vaccines to all its citizens, said Zeng Yixin, Deputy Head of the National Health Commission, at a news conference on Thursday. “All Chinese people will receive this vaccine free of charge,’’ the NHC official said. After the COVID-19 vaccines are approved to enter the market, especially when production capacity increases, […]\n",
      "Sodiq Oyeleke Authorities of Covenant University have postponed the institution’s resumption till January 18, 2021. In a circular obtained by our correspondent on Thursday, the university said this was in a bid to control the spread of COVID-19. It, however, said virtual classes would commence for students of the university on January 11, 2021. Part […]\n",
      "Godwin Isenyo, Kaduna The Pan-Northern socio-political group, the Arewa Consultative Forum, has raised the alarm that camels are now being allegedly used to bring in “Rocket Propelled Grenades RPGs” and “anti-aircraft guns” into the country through northern borders. The National Chairman of the ACF, Chief Audu Ogbeh, who disclosed this in a statement he personally […]\n"
     ]
    }
   ],
   "source": [
    "for div in soup.find_all(name='div', attrs={'class':'items col-sm-12'}):\n",
    "    try:\n",
    "        print(div.find(name='div', attrs={'class': 'seg-summary'}).text)\n",
    "    except:\n",
    "        print('None')"
   ]
  },
  {
   "cell_type": "code",
   "execution_count": 5,
   "metadata": {},
   "outputs": [
    {
     "name": "stdout",
     "output_type": "stream",
     "text": [
      "December 31st, 2020\n",
      "December 31st, 2020\n",
      "December 31st, 2020\n",
      "December 31st, 2020\n",
      "December 31st, 2020\n",
      "December 31st, 2020\n",
      "December 31st, 2020\n",
      "December 31st, 2020\n",
      "December 31st, 2020\n",
      "December 31st, 2020\n",
      "December 31st, 2020\n",
      "December 31st, 2020\n",
      "December 31st, 2020\n"
     ]
    }
   ],
   "source": [
    "for div in soup.find_all(name='div', attrs={'class':'items col-sm-12'}):\n",
    "    try:\n",
    "        print(div.find(name='span', attrs={'class': 'pull-right'}).text)\n",
    "    except:\n",
    "        print('None')"
   ]
  },
  {
   "cell_type": "code",
   "execution_count": 6,
   "metadata": {},
   "outputs": [],
   "source": [
    "#import these to handle exceptions that may come up\n",
    "from requests import ReadTimeout, ConnectTimeout, HTTPError, Timeout, ConnectionError"
   ]
  },
  {
   "cell_type": "code",
   "execution_count": 7,
   "metadata": {},
   "outputs": [
    {
     "name": "stdout",
     "output_type": "stream",
     "text": [
      "done\n"
     ]
    }
   ],
   "source": [
    "headlines = []\n",
    "summary = []\n",
    "date = []\n",
    "\n",
    "pages = np.arange(74, 568, 1)\n",
    "\n",
    "for page in pages:\n",
    "    try:\n",
    "        page = requests.get(\"https://punchng.com/topics/news/page/\" + str(page), timeout=6.0) \n",
    "    \n",
    "        soup = BeautifulSoup(page.text, 'html.parser')\n",
    "        sleep(randint(2,10))#ensuring at least 2 seconds between page grabs\n",
    "   \n",
    "    \n",
    "        for div in soup.find_all(name='div', attrs={'class':'items col-sm-12'}):\n",
    "            try:\n",
    "                headlines.append(div.find(name='h2', attrs={'class': 'seg-title'}).text)\n",
    "            except:\n",
    "                headlines.append('None')   \n",
    "        for div in soup.find_all(name='div', attrs={'class':'items col-sm-12'}):\n",
    "            try:\n",
    "                summary.append(div.find(name='div', attrs={'class': 'seg-summary'}).text)\n",
    "            except:\n",
    "                summary.append('None')\n",
    "            \n",
    "        for div in soup.find_all(name='div', attrs={'class':'items col-sm-12'}):\n",
    "            try:\n",
    "                date.append(div.find(name='span', attrs={'class': 'pull-right'}).text)\n",
    "            except:\n",
    "                date.append('None')\n",
    "                \n",
    "    except (ReadTimeout, ConnectTimeout, HTTPError, Timeout, ConnectionError):\n",
    "        continue\n",
    "    \n",
    "print('done')   "
   ]
  },
  {
   "cell_type": "code",
   "execution_count": 12,
   "metadata": {},
   "outputs": [
    {
     "name": "stdout",
     "output_type": "stream",
     "text": [
      "done\n"
     ]
    }
   ],
   "source": [
    "pages = np.arange(569, 1063, 1)\n",
    "\n",
    "for page in pages:\n",
    "    try:\n",
    "        page = requests.get(\"https://punchng.com/topics/news/page/\" + str(page), timeout=6.0) \n",
    "    \n",
    "        soup = BeautifulSoup(page.text, 'html.parser')\n",
    "        sleep(randint(2,10))#ensuring at least 2 seconds between page grabs\n",
    "   \n",
    "    \n",
    "        for div in soup.find_all(name='div', attrs={'class':'items col-sm-12'}):\n",
    "            try:\n",
    "                headlines.append(div.find(name='h2', attrs={'class': 'seg-title'}).text)\n",
    "            except:\n",
    "                headlines.append('None')   \n",
    "        for div in soup.find_all(name='div', attrs={'class':'items col-sm-12'}):\n",
    "            try:\n",
    "                summary.append(div.find(name='div', attrs={'class': 'seg-summary'}).text)\n",
    "            except:\n",
    "                summary.append('None')\n",
    "            \n",
    "        for div in soup.find_all(name='div', attrs={'class':'items col-sm-12'}):\n",
    "            try:\n",
    "                date.append(div.find(name='span', attrs={'class': 'pull-right'}).text)\n",
    "            except:\n",
    "                date.append('None')\n",
    "                \n",
    "    except (ReadTimeout, ConnectTimeout, HTTPError, Timeout, ConnectionError):\n",
    "        continue\n",
    "    \n",
    "print('done')   "
   ]
  },
  {
   "cell_type": "code",
   "execution_count": 15,
   "metadata": {},
   "outputs": [
    {
     "name": "stdout",
     "output_type": "stream",
     "text": [
      "done\n"
     ]
    }
   ],
   "source": [
    "pages = np.arange(1064, 1557 , 1)\n",
    "\n",
    "for page in pages:\n",
    "    try:\n",
    "        page = requests.get(\"https://punchng.com/topics/news/page/\" + str(page), timeout=6.0) \n",
    "    \n",
    "        soup = BeautifulSoup(page.text, 'html.parser')\n",
    "        sleep(randint(2,10))#ensuring at least 2 seconds between page grabs\n",
    "   \n",
    "    \n",
    "        for div in soup.find_all(name='div', attrs={'class':'items col-sm-12'}):\n",
    "            try:\n",
    "                headlines.append(div.find(name='h2', attrs={'class': 'seg-title'}).text)\n",
    "            except:\n",
    "                headlines.append('None')   \n",
    "        for div in soup.find_all(name='div', attrs={'class':'items col-sm-12'}):\n",
    "            try:\n",
    "                summary.append(div.find(name='div', attrs={'class': 'seg-summary'}).text)\n",
    "            except:\n",
    "                summary.append('None')\n",
    "            \n",
    "        for div in soup.find_all(name='div', attrs={'class':'items col-sm-12'}):\n",
    "            try:\n",
    "                date.append(div.find(name='span', attrs={'class': 'pull-right'}).text)\n",
    "            except:\n",
    "                date.append('None')\n",
    "                \n",
    "    except (ReadTimeout, ConnectTimeout, HTTPError, Timeout, ConnectionError):\n",
    "        continue\n",
    "    \n",
    "print('done')   "
   ]
  },
  {
   "cell_type": "code",
   "execution_count": 17,
   "metadata": {},
   "outputs": [
    {
     "name": "stdout",
     "output_type": "stream",
     "text": [
      "done\n"
     ]
    }
   ],
   "source": [
    "pages = np.arange(1558, 2051, 1)\n",
    "\n",
    "for page in pages:\n",
    "    try:\n",
    "        page = requests.get(\"https://punchng.com/topics/news/page/\" + str(page), timeout=6.0) \n",
    "    \n",
    "        soup = BeautifulSoup(page.text, 'html.parser')\n",
    "        sleep(randint(2,10))#ensuring at least 2 seconds between page grabs\n",
    "   \n",
    "    \n",
    "        for div in soup.find_all(name='div', attrs={'class':'items col-sm-12'}):\n",
    "            try:\n",
    "                headlines.append(div.find(name='h2', attrs={'class': 'seg-title'}).text)\n",
    "            except:\n",
    "                headlines.append('None')   \n",
    "        for div in soup.find_all(name='div', attrs={'class':'items col-sm-12'}):\n",
    "            try:\n",
    "                summary.append(div.find(name='div', attrs={'class': 'seg-summary'}).text)\n",
    "            except:\n",
    "                summary.append('None')\n",
    "            \n",
    "        for div in soup.find_all(name='div', attrs={'class':'items col-sm-12'}):\n",
    "            try:\n",
    "                date.append(div.find(name='span', attrs={'class': 'pull-right'}).text)\n",
    "            except:\n",
    "                date.append('None')\n",
    "                \n",
    "    except (ReadTimeout, ConnectTimeout, HTTPError, Timeout, ConnectionError):\n",
    "        continue\n",
    "    \n",
    "print('done')   "
   ]
  },
  {
   "cell_type": "code",
   "execution_count": 18,
   "metadata": {},
   "outputs": [
    {
     "data": {
      "text/plain": [
       "26052"
      ]
     },
     "execution_count": 18,
     "metadata": {},
     "output_type": "execute_result"
    }
   ],
   "source": [
    "len(headlines)"
   ]
  },
  {
   "cell_type": "code",
   "execution_count": 19,
   "metadata": {},
   "outputs": [
    {
     "data": {
      "text/plain": [
       "'January 1st, 2020'"
      ]
     },
     "execution_count": 19,
     "metadata": {},
     "output_type": "execute_result"
    }
   ],
   "source": [
    "date[-1]"
   ]
  },
  {
   "cell_type": "code",
   "execution_count": 20,
   "metadata": {},
   "outputs": [],
   "source": [
    "df = pd.DataFrame(list(zip(headlines, summary, date)),columns = ['Headlines', 'Summary', 'Date'])"
   ]
  },
  {
   "cell_type": "code",
   "execution_count": 21,
   "metadata": {},
   "outputs": [
    {
     "data": {
      "text/plain": [
       "18138"
      ]
     },
     "execution_count": 21,
     "metadata": {},
     "output_type": "execute_result"
    }
   ],
   "source": [
    "df.drop_duplicates(subset='Headlines', keep=False, inplace=True)\n",
    "len(df)"
   ]
  },
  {
   "cell_type": "code",
   "execution_count": 23,
   "metadata": {},
   "outputs": [],
   "source": [
    "df.to_csv('punch_headlines_2020.csv')"
   ]
  },
  {
   "cell_type": "code",
   "execution_count": null,
   "metadata": {},
   "outputs": [],
   "source": []
  }
 ],
 "metadata": {
  "kernelspec": {
   "display_name": "Python 3",
   "language": "python",
   "name": "python3"
  },
  "language_info": {
   "codemirror_mode": {
    "name": "ipython",
    "version": 3
   },
   "file_extension": ".py",
   "mimetype": "text/x-python",
   "name": "python",
   "nbconvert_exporter": "python",
   "pygments_lexer": "ipython3",
   "version": "3.8.3"
  }
 },
 "nbformat": 4,
 "nbformat_minor": 4
}
